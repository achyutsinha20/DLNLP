{
  "cells": [
    {
      "cell_type": "code",
      "execution_count": null,
      "id": "c97ca038",
      "metadata": {
        "id": "c97ca038"
      },
      "outputs": [],
      "source": [
        "pip install tensorflow"
      ]
    },
    {
      "cell_type": "code",
      "execution_count": null,
      "id": "89431cd4",
      "metadata": {
        "id": "89431cd4"
      },
      "outputs": [],
      "source": [
        "import tensorflow as tf\n",
        "import numpy as np\n"
      ]
    },
    {
      "cell_type": "code",
      "execution_count": null,
      "id": "21192f69",
      "metadata": {
        "id": "21192f69"
      },
      "outputs": [],
      "source": [
        ""
      ]
    },
    {
      "cell_type": "code",
      "execution_count": null,
      "id": "a1ba25c5",
      "metadata": {
        "id": "a1ba25c5"
      },
      "outputs": [],
      "source": [
        "from keras.preprocessing.image import ImageDataGenerator"
      ]
    },
    {
      "cell_type": "code",
      "execution_count": null,
      "id": "0b423f63",
      "metadata": {
        "id": "0b423f63"
      },
      "outputs": [],
      "source": [
        "train_datagen = ImageDataGenerator(rescale = 1./255,\n",
        "                                   shear_range = 0.2,\n",
        "                                   zoom_range = 0.2,\n",
        "                                   horizontal_flip = True)"
      ]
    },
    {
      "cell_type": "code",
      "execution_count": null,
      "id": "aa25faac",
      "metadata": {
        "id": "aa25faac",
        "outputId": "60cb45d7-1686-4d19-8a43-5c6be50e629a"
      },
      "outputs": [
        {
          "name": "stdout",
          "output_type": "stream",
          "text": [
            "Found 251 images belonging to 3 classes.\n"
          ]
        }
      ],
      "source": [
        "training_set = train_datagen.flow_from_directory('C:\\\\Users\\\\025004\\\\Desktop\\\\Covid19-dataset\\\\train',\n",
        "                                                 target_size = (64, 64),\n",
        "                                                 batch_size = 32,\n",
        "                                                 class_mode = 'categorical')"
      ]
    },
    {
      "cell_type": "code",
      "execution_count": null,
      "id": "414f99b9",
      "metadata": {
        "id": "414f99b9",
        "outputId": "1f6be0ff-a624-473d-f66b-aed28105262f"
      },
      "outputs": [
        {
          "name": "stdout",
          "output_type": "stream",
          "text": [
            "Found 66 images belonging to 3 classes.\n"
          ]
        }
      ],
      "source": [
        "test_datagen = ImageDataGenerator(rescale = 1./255)\n",
        "test_set = test_datagen.flow_from_directory('C:\\\\Users\\\\025004\\\\Desktop\\\\Covid19-dataset\\\\test',\n",
        "                                            target_size = (64, 64),\n",
        "                                            batch_size = 32,\n",
        "                                            class_mode = 'categorical')"
      ]
    },
    {
      "cell_type": "code",
      "execution_count": null,
      "id": "520cb1e2",
      "metadata": {
        "id": "520cb1e2"
      },
      "outputs": [],
      "source": [
        "cnn = tf.keras.models.Sequential() #Declaring a variable with sequential model of Keras"
      ]
    },
    {
      "cell_type": "code",
      "execution_count": null,
      "id": "1e379b39",
      "metadata": {
        "id": "1e379b39"
      },
      "outputs": [],
      "source": [
        "cnn.add(tf.keras.layers.Conv2D(filters=32, kernel_size=3, activation='relu', input_shape=[64, 64, 3]))"
      ]
    },
    {
      "cell_type": "code",
      "execution_count": null,
      "id": "6de50052",
      "metadata": {
        "id": "6de50052"
      },
      "outputs": [],
      "source": [
        "cnn.add(tf.keras.layers.MaxPool2D(pool_size=2, strides=2))"
      ]
    },
    {
      "cell_type": "code",
      "execution_count": null,
      "id": "1c71f06a",
      "metadata": {
        "id": "1c71f06a"
      },
      "outputs": [],
      "source": [
        "cnn.add(tf.keras.layers.Conv2D(filters=32, kernel_size=3, activation='relu'))\n",
        "cnn.add(tf.keras.layers.MaxPool2D(pool_size=2, strides=2))"
      ]
    },
    {
      "cell_type": "code",
      "execution_count": null,
      "id": "d16b7d6d",
      "metadata": {
        "id": "d16b7d6d"
      },
      "outputs": [],
      "source": [
        "cnn.add(tf.keras.layers.Flatten())"
      ]
    },
    {
      "cell_type": "code",
      "execution_count": null,
      "id": "c4efd76f",
      "metadata": {
        "id": "c4efd76f"
      },
      "outputs": [],
      "source": [
        "cnn.add(tf.keras.layers.Dense(units=128, activation='relu'))"
      ]
    },
    {
      "cell_type": "code",
      "execution_count": null,
      "id": "c93d940f",
      "metadata": {
        "id": "c93d940f"
      },
      "outputs": [],
      "source": [
        "\n",
        "cnn.add(tf.keras.layers.Dense(units=1, activation='sigmoid'))"
      ]
    },
    {
      "cell_type": "code",
      "execution_count": null,
      "id": "e4abe60f",
      "metadata": {
        "id": "e4abe60f"
      },
      "outputs": [],
      "source": [
        "cnn.compile(optimizer = 'adam', loss = 'binary_crossentropy', metrics = ['accuracy'])"
      ]
    },
    {
      "cell_type": "code",
      "execution_count": null,
      "id": "cfac95ac",
      "metadata": {
        "id": "cfac95ac",
        "outputId": "e815a4ff-5822-4aba-e60f-e23ff79112b6"
      },
      "outputs": [
        {
          "name": "stdout",
          "output_type": "stream",
          "text": [
            "Epoch 1/25\n",
            "8/8 [==============================] - 8s 1s/step - loss: 0.7372 - accuracy: 0.5870 - val_loss: 0.6433 - val_accuracy: 0.6667\n",
            "Epoch 2/25\n",
            "8/8 [==============================] - 7s 947ms/step - loss: 0.6404 - accuracy: 0.6667 - val_loss: 0.6369 - val_accuracy: 0.6667\n",
            "Epoch 3/25\n",
            "8/8 [==============================] - 8s 976ms/step - loss: 0.6384 - accuracy: 0.6667 - val_loss: 0.6380 - val_accuracy: 0.6667\n",
            "Epoch 4/25\n",
            "8/8 [==============================] - 7s 911ms/step - loss: 0.6375 - accuracy: 0.6667 - val_loss: 0.6368 - val_accuracy: 0.6667\n",
            "Epoch 5/25\n",
            "8/8 [==============================] - 8s 931ms/step - loss: 0.6370 - accuracy: 0.6667 - val_loss: 0.6371 - val_accuracy: 0.6667\n",
            "Epoch 6/25\n",
            "8/8 [==============================] - 7s 840ms/step - loss: 0.6370 - accuracy: 0.6667 - val_loss: 0.6369 - val_accuracy: 0.6667\n",
            "Epoch 7/25\n",
            "8/8 [==============================] - 7s 908ms/step - loss: 0.6369 - accuracy: 0.6667 - val_loss: 0.6370 - val_accuracy: 0.6667\n",
            "Epoch 8/25\n",
            "8/8 [==============================] - 7s 927ms/step - loss: 0.6369 - accuracy: 0.6667 - val_loss: 0.6370 - val_accuracy: 0.6667\n",
            "Epoch 9/25\n",
            "8/8 [==============================] - 7s 884ms/step - loss: 0.6369 - accuracy: 0.6667 - val_loss: 0.6368 - val_accuracy: 0.6667\n",
            "Epoch 10/25\n",
            "8/8 [==============================] - 8s 969ms/step - loss: 0.6369 - accuracy: 0.6667 - val_loss: 0.6368 - val_accuracy: 0.6667\n",
            "Epoch 11/25\n",
            "8/8 [==============================] - 7s 943ms/step - loss: 0.6368 - accuracy: 0.6667 - val_loss: 0.6369 - val_accuracy: 0.6667\n",
            "Epoch 12/25\n",
            "8/8 [==============================] - 7s 876ms/step - loss: 0.6368 - accuracy: 0.6667 - val_loss: 0.6368 - val_accuracy: 0.6667\n",
            "Epoch 13/25\n",
            "8/8 [==============================] - 7s 881ms/step - loss: 0.6368 - accuracy: 0.6667 - val_loss: 0.6368 - val_accuracy: 0.6667\n",
            "Epoch 14/25\n",
            "8/8 [==============================] - 7s 877ms/step - loss: 0.6368 - accuracy: 0.6667 - val_loss: 0.6370 - val_accuracy: 0.6667\n",
            "Epoch 15/25\n",
            "8/8 [==============================] - 7s 906ms/step - loss: 0.6368 - accuracy: 0.6667 - val_loss: 0.6368 - val_accuracy: 0.6667\n",
            "Epoch 16/25\n",
            "8/8 [==============================] - 7s 898ms/step - loss: 0.6368 - accuracy: 0.6667 - val_loss: 0.6368 - val_accuracy: 0.6667\n",
            "Epoch 17/25\n",
            "8/8 [==============================] - 7s 899ms/step - loss: 0.6367 - accuracy: 0.6667 - val_loss: 0.6368 - val_accuracy: 0.6667\n",
            "Epoch 18/25\n",
            "8/8 [==============================] - 7s 899ms/step - loss: 0.6368 - accuracy: 0.6667 - val_loss: 0.6369 - val_accuracy: 0.6667\n",
            "Epoch 19/25\n",
            "8/8 [==============================] - 7s 933ms/step - loss: 0.6368 - accuracy: 0.6667 - val_loss: 0.6368 - val_accuracy: 0.6667\n",
            "Epoch 20/25\n",
            "8/8 [==============================] - 7s 922ms/step - loss: 0.6368 - accuracy: 0.6667 - val_loss: 0.6367 - val_accuracy: 0.6667\n",
            "Epoch 21/25\n",
            "8/8 [==============================] - 21s 3s/step - loss: 0.6368 - accuracy: 0.6667 - val_loss: 0.6367 - val_accuracy: 0.6667\n",
            "Epoch 22/25\n",
            "8/8 [==============================] - 11s 1s/step - loss: 0.6367 - accuracy: 0.6667 - val_loss: 0.6367 - val_accuracy: 0.6667\n",
            "Epoch 23/25\n",
            "8/8 [==============================] - 7s 928ms/step - loss: 0.6367 - accuracy: 0.6667 - val_loss: 0.6366 - val_accuracy: 0.6667\n",
            "Epoch 24/25\n",
            "8/8 [==============================] - 16s 2s/step - loss: 0.6367 - accuracy: 0.6667 - val_loss: 0.6367 - val_accuracy: 0.6667\n",
            "Epoch 25/25\n",
            "8/8 [==============================] - 9s 1s/step - loss: 0.6368 - accuracy: 0.6667 - val_loss: 0.6367 - val_accuracy: 0.6667\n"
          ]
        },
        {
          "data": {
            "text/plain": [
              "<keras.callbacks.History at 0x263d4471eb0>"
            ]
          },
          "execution_count": 22,
          "metadata": {},
          "output_type": "execute_result"
        }
      ],
      "source": [
        "cnn.fit(x = training_set, validation_data = test_set, epochs = 25)"
      ]
    },
    {
      "cell_type": "code",
      "execution_count": null,
      "id": "559f2f64",
      "metadata": {
        "id": "559f2f64",
        "outputId": "33087d30-d535-4a65-d138-cf75167f2f9c"
      },
      "outputs": [
        {
          "name": "stdout",
          "output_type": "stream",
          "text": [
            "1/1 [==============================] - 0s 13ms/step\n"
          ]
        }
      ],
      "source": [
        "#cnn\n",
        "\n",
        "import numpy as np\n",
        "from keras.preprocessing import image\n",
        "test_image = tf.keras.preprocessing.image.load_img('C:\\\\Users\\\\025005\\\\Desktop\\\\Covid19-dataset\\\\test\\\\Covid\\\\096.png', target_size = (64, 64))\n",
        "test_image = tf.keras.preprocessing.image.img_to_array(test_image)\n",
        "test_image = np.expand_dims(test_image, axis = 0)\n",
        "result = cnn.predict(test_image)\n",
        "training_set.class_indices\n",
        "if result[0][0] == 1:\n",
        "  prediction = 'normal'\n",
        "else:\n",
        "  prediction = 'covid'"
      ]
    },
    {
      "cell_type": "code",
      "execution_count": null,
      "id": "4774e275",
      "metadata": {
        "id": "4774e275",
        "outputId": "7b655f7c-944c-44b1-ad4d-c0d9bda90f0a"
      },
      "outputs": [
        {
          "name": "stdout",
          "output_type": "stream",
          "text": [
            "covid\n"
          ]
        }
      ],
      "source": [
        "print(prediction)"
      ]
    },
    {
      "cell_type": "code",
      "execution_count": null,
      "id": "4a0bc7ee",
      "metadata": {
        "id": "4a0bc7ee"
      },
      "outputs": [],
      "source": [
        "import numpy as np\n",
        "from keras.preprocessing import image\n",
        "test_image = tf.keras.preprocessing.image.load_img('C:\\\\Users\\\\025005\\\\Desktop\\\\Covid19-dataset\\\\test\\\\Covid\\\\096.png', target_size = (64, 64))\n",
        "test_image = tf.keras.preprocessing.image.img_to_array(test_image)\n",
        "test_image = np.expand_dims(test_image, axis = 0)\n",
        "result = cnn.predict(test_image)\n",
        "training_set.class_indices\n",
        "if result[0][0] == 1:\n",
        "  prediction = 'normal'\n",
        "else:\n",
        "  prediction = 'covid'"
      ]
    },
    {
      "cell_type": "code",
      "execution_count": null,
      "id": "ab032903",
      "metadata": {
        "id": "ab032903"
      },
      "outputs": [],
      "source": [
        ""
      ]
    }
  ],
  "metadata": {
    "kernelspec": {
      "display_name": "Python 3 (ipykernel)",
      "language": "python",
      "name": "python3"
    },
    "language_info": {
      "codemirror_mode": {
        "name": "ipython",
        "version": 3
      },
      "file_extension": ".py",
      "mimetype": "text/x-python",
      "name": "python",
      "nbconvert_exporter": "python",
      "pygments_lexer": "ipython3",
      "version": "3.9.12"
    },
    "colab": {
      "name": "Normal and Covid Classification",
      "provenance": []
    }
  },
  "nbformat": 4,
  "nbformat_minor": 5
}