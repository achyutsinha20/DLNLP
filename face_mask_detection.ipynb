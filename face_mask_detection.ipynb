{
  "nbformat": 4,
  "nbformat_minor": 0,
  "metadata": {
    "colab": {
      "name": "facedetection.ipynb",
      "provenance": [],
      "collapsed_sections": []
    },
    "kernelspec": {
      "name": "python3",
      "display_name": "Python 3"
    },
    "language_info": {
      "name": "python"
    }
  },
  "cells": [
    {
      "cell_type": "code",
      "execution_count": 1,
      "metadata": {
        "id": "bjF61U7lA6fI"
      },
      "outputs": [],
      "source": [
        "import tensorflow as tf\n",
        "import numpy as np"
      ]
    },
    {
      "cell_type": "code",
      "source": [
        "from keras.preprocessing.image import ImageDataGenerator"
      ],
      "metadata": {
        "id": "mS6j3sMEA9VD"
      },
      "execution_count": 2,
      "outputs": []
    },
    {
      "cell_type": "code",
      "source": [
        "train_datagen = ImageDataGenerator(rescale = 1./255,\n",
        "                                   shear_range = 0.2,\n",
        "                                   zoom_range = 0.2,\n",
        "                                   horizontal_flip = True)"
      ],
      "metadata": {
        "id": "dlEgv2m3BA_9"
      },
      "execution_count": 3,
      "outputs": []
    },
    {
      "cell_type": "code",
      "source": [
        "training_set = train_datagen.flow_from_directory('/content/drive/MyDrive/Project 1/Train',\n",
        "                                                 target_size = (64, 64),\n",
        "                                                 batch_size = 32,\n",
        "                                                 class_mode = 'binary')"
      ],
      "metadata": {
        "colab": {
          "base_uri": "https://localhost:8080/"
        },
        "id": "2_r2ChLoBFWD",
        "outputId": "3f5b8226-7da0-4724-89ae-756afd15e935"
      },
      "execution_count": 4,
      "outputs": [
        {
          "output_type": "stream",
          "name": "stdout",
          "text": [
            "Found 1624 images belonging to 2 classes.\n"
          ]
        }
      ]
    },
    {
      "cell_type": "code",
      "source": [
        "test_datagen = ImageDataGenerator(rescale = 1./255)\n",
        "test_set = test_datagen.flow_from_directory('/content/drive/MyDrive/Project 1/Test',\n",
        "                                            target_size = (64, 64),\n",
        "                                            batch_size = 32,\n",
        "                                            class_mode = 'binary')"
      ],
      "metadata": {
        "colab": {
          "base_uri": "https://localhost:8080/"
        },
        "id": "4URgdewYCkeE",
        "outputId": "628960d8-657b-4bb9-e5f5-1c885e6982b0"
      },
      "execution_count": 5,
      "outputs": [
        {
          "output_type": "stream",
          "name": "stdout",
          "text": [
            "Found 175 images belonging to 1 classes.\n"
          ]
        }
      ]
    },
    {
      "cell_type": "code",
      "source": [
        "cnn = tf.keras.models.Sequential()"
      ],
      "metadata": {
        "id": "9YziGNu7Cwgn"
      },
      "execution_count": 6,
      "outputs": []
    },
    {
      "cell_type": "code",
      "source": [
        "cnn.add(tf.keras.layers.Conv2D(filters=32, kernel_size=3, activation='relu', input_shape=[64, 64, 3]))"
      ],
      "metadata": {
        "id": "x3z0Zq0uC0hk"
      },
      "execution_count": 7,
      "outputs": []
    },
    {
      "cell_type": "code",
      "source": [
        "cnn.add(tf.keras.layers.MaxPool2D(pool_size=2, strides=2))"
      ],
      "metadata": {
        "id": "-zn9Aq92C312"
      },
      "execution_count": 8,
      "outputs": []
    },
    {
      "cell_type": "code",
      "source": [
        "cnn.add(tf.keras.layers.Conv2D(filters=32, kernel_size=3, activation='relu'))\n",
        "cnn.add(tf.keras.layers.MaxPool2D(pool_size=2, strides=2))"
      ],
      "metadata": {
        "id": "6E9k8WXpC8MP"
      },
      "execution_count": 9,
      "outputs": []
    },
    {
      "cell_type": "code",
      "source": [
        "cnn.add(tf.keras.layers.Flatten())"
      ],
      "metadata": {
        "id": "176itpNaC_M7"
      },
      "execution_count": 10,
      "outputs": []
    },
    {
      "cell_type": "code",
      "source": [
        "cnn.add(tf.keras.layers.Dense(units=128, activation='relu'))"
      ],
      "metadata": {
        "id": "0ZfkNAvuDB3j"
      },
      "execution_count": 11,
      "outputs": []
    },
    {
      "cell_type": "code",
      "source": [
        "\n",
        "cnn.add(tf.keras.layers.Dense(units=1, activation='sigmoid'))"
      ],
      "metadata": {
        "id": "WRSzI12eDEpM"
      },
      "execution_count": 12,
      "outputs": []
    },
    {
      "cell_type": "code",
      "source": [
        "cnn.compile(optimizer = 'adam', loss = 'binary_crossentropy', metrics = ['accuracy'])"
      ],
      "metadata": {
        "id": "9ckKLJ57DHUE"
      },
      "execution_count": 13,
      "outputs": []
    },
    {
      "cell_type": "code",
      "source": [
        "cnn.fit(x = training_set, validation_data = test_set, epochs = 25)"
      ],
      "metadata": {
        "colab": {
          "base_uri": "https://localhost:8080/"
        },
        "id": "A7x6WSB4DKyi",
        "outputId": "67280c2b-5932-4474-f075-4b84f1678fdd"
      },
      "execution_count": 14,
      "outputs": [
        {
          "output_type": "stream",
          "name": "stdout",
          "text": [
            "Epoch 1/25\n",
            "51/51 [==============================] - 549s 11s/step - loss: 0.2854 - accuracy: 0.8867 - val_loss: 0.0138 - val_accuracy: 1.0000\n",
            "Epoch 2/25\n",
            "51/51 [==============================] - 49s 971ms/step - loss: 0.1771 - accuracy: 0.9372 - val_loss: 0.0113 - val_accuracy: 1.0000\n",
            "Epoch 3/25\n",
            "51/51 [==============================] - 49s 971ms/step - loss: 0.1373 - accuracy: 0.9550 - val_loss: 0.0013 - val_accuracy: 1.0000\n",
            "Epoch 4/25\n",
            "51/51 [==============================] - 50s 970ms/step - loss: 0.1192 - accuracy: 0.9569 - val_loss: 8.0627e-04 - val_accuracy: 1.0000\n",
            "Epoch 5/25\n",
            "51/51 [==============================] - 48s 942ms/step - loss: 0.1010 - accuracy: 0.9643 - val_loss: 0.0059 - val_accuracy: 1.0000\n",
            "Epoch 6/25\n",
            "51/51 [==============================] - 51s 1s/step - loss: 0.1036 - accuracy: 0.9612 - val_loss: 0.0158 - val_accuracy: 1.0000\n",
            "Epoch 7/25\n",
            "51/51 [==============================] - 50s 983ms/step - loss: 0.0713 - accuracy: 0.9766 - val_loss: 8.2157e-04 - val_accuracy: 1.0000\n",
            "Epoch 8/25\n",
            "51/51 [==============================] - 49s 957ms/step - loss: 0.0778 - accuracy: 0.9735 - val_loss: 0.0150 - val_accuracy: 0.9943\n",
            "Epoch 9/25\n",
            "51/51 [==============================] - 48s 938ms/step - loss: 0.0690 - accuracy: 0.9729 - val_loss: 7.2119e-04 - val_accuracy: 1.0000\n",
            "Epoch 10/25\n",
            "51/51 [==============================] - 50s 982ms/step - loss: 0.0633 - accuracy: 0.9772 - val_loss: 0.0077 - val_accuracy: 1.0000\n",
            "Epoch 11/25\n",
            "51/51 [==============================] - 49s 955ms/step - loss: 0.0680 - accuracy: 0.9729 - val_loss: 0.0083 - val_accuracy: 0.9943\n",
            "Epoch 12/25\n",
            "51/51 [==============================] - 50s 974ms/step - loss: 0.0573 - accuracy: 0.9784 - val_loss: 3.2690e-05 - val_accuracy: 1.0000\n",
            "Epoch 13/25\n",
            "51/51 [==============================] - 48s 949ms/step - loss: 0.0846 - accuracy: 0.9686 - val_loss: 0.0036 - val_accuracy: 1.0000\n",
            "Epoch 14/25\n",
            "51/51 [==============================] - 50s 978ms/step - loss: 0.0435 - accuracy: 0.9852 - val_loss: 8.7760e-04 - val_accuracy: 1.0000\n",
            "Epoch 15/25\n",
            "51/51 [==============================] - 49s 958ms/step - loss: 0.0398 - accuracy: 0.9865 - val_loss: 0.0011 - val_accuracy: 1.0000\n",
            "Epoch 16/25\n",
            "51/51 [==============================] - 50s 975ms/step - loss: 0.0760 - accuracy: 0.9766 - val_loss: 0.0209 - val_accuracy: 1.0000\n",
            "Epoch 17/25\n",
            "51/51 [==============================] - 48s 943ms/step - loss: 0.0362 - accuracy: 0.9883 - val_loss: 0.0022 - val_accuracy: 1.0000\n",
            "Epoch 18/25\n",
            "51/51 [==============================] - 50s 985ms/step - loss: 0.0393 - accuracy: 0.9877 - val_loss: 0.0137 - val_accuracy: 0.9943\n",
            "Epoch 19/25\n",
            "51/51 [==============================] - 49s 947ms/step - loss: 0.0471 - accuracy: 0.9784 - val_loss: 2.1554e-04 - val_accuracy: 1.0000\n",
            "Epoch 20/25\n",
            "51/51 [==============================] - 48s 949ms/step - loss: 0.0330 - accuracy: 0.9895 - val_loss: 0.0030 - val_accuracy: 1.0000\n",
            "Epoch 21/25\n",
            "51/51 [==============================] - 48s 951ms/step - loss: 0.0215 - accuracy: 0.9926 - val_loss: 7.1370e-04 - val_accuracy: 1.0000\n",
            "Epoch 22/25\n",
            "51/51 [==============================] - 48s 933ms/step - loss: 0.0348 - accuracy: 0.9889 - val_loss: 0.0134 - val_accuracy: 0.9943\n",
            "Epoch 23/25\n",
            "51/51 [==============================] - 49s 965ms/step - loss: 0.0488 - accuracy: 0.9797 - val_loss: 0.0039 - val_accuracy: 1.0000\n",
            "Epoch 24/25\n",
            "51/51 [==============================] - 48s 948ms/step - loss: 0.0243 - accuracy: 0.9945 - val_loss: 3.8090e-04 - val_accuracy: 1.0000\n",
            "Epoch 25/25\n",
            "51/51 [==============================] - 50s 986ms/step - loss: 0.0294 - accuracy: 0.9877 - val_loss: 0.0227 - val_accuracy: 0.9943\n"
          ]
        },
        {
          "output_type": "execute_result",
          "data": {
            "text/plain": [
              "<keras.callbacks.History at 0x7fc6ae53b990>"
            ]
          },
          "metadata": {},
          "execution_count": 14
        }
      ]
    },
    {
      "cell_type": "code",
      "source": [
        "import numpy as np\n",
        "from keras.preprocessing import image\n",
        "test_image = tf.keras.preprocessing.image.load_img('/content/drive/MyDrive/Project 1/Test/With mask/P49VRBU7ESTGZYCX85MA.jpg', target_size = (64, 64))\n",
        "test_image = tf.keras.preprocessing.image.img_to_array(test_image)\n",
        "test_image = np.expand_dims(test_image, axis = 0)\n",
        "result = cnn.predict(test_image)\n",
        "training_set.class_indices\n",
        "if result[0][0] == 1:\n",
        "  prediction = 'Unmasked'\n",
        "else:\n",
        "  prediction = 'masked'"
      ],
      "metadata": {
        "id": "cn1H4ZmzDOj6"
      },
      "execution_count": 19,
      "outputs": []
    },
    {
      "cell_type": "code",
      "source": [
        "print(prediction)"
      ],
      "metadata": {
        "colab": {
          "base_uri": "https://localhost:8080/"
        },
        "id": "mbbbg87bLJ2y",
        "outputId": "7321bc43-1a60-44ba-b890-12715e443e27"
      },
      "execution_count": 20,
      "outputs": [
        {
          "output_type": "stream",
          "name": "stdout",
          "text": [
            "masked\n"
          ]
        }
      ]
    },
    {
      "cell_type": "code",
      "source": [
        ""
      ],
      "metadata": {
        "id": "N_etVHLGLO-O"
      },
      "execution_count": null,
      "outputs": []
    }
  ]
}